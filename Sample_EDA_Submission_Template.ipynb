{
  "nbformat": 4,
  "nbformat_minor": 0,
  "metadata": {
    "colab": {
      "private_outputs": true,
      "provenance": [],
      "collapsed_sections": [
        "vncDsAP0Gaoa",
        "FJNUwmbgGyua",
        "w6K7xa23Elo4",
        "yQaldy8SH6Dl",
        "PH-0ReGfmX4f",
        "mDgbUHAGgjLW",
        "O_i_v8NEhb9l",
        "HhfV-JJviCcP",
        "Y3lxredqlCYt",
        "3RnN4peoiCZX",
        "x71ZqKXriCWQ",
        "7hBIi_osiCS2",
        "JlHwYmJAmNHm",
        "35m5QtbWiB9F",
        "PoPl-ycgm1ru",
        "H0kj-8xxnORC",
        "nA9Y7ga8ng1Z",
        "PBTbrJXOngz2",
        "u3PMJOP6ngxN",
        "dauF4eBmngu3",
        "bKJF3rekwFvQ",
        "MSa1f5Uengrz",
        "GF8Ens_Soomf",
        "0wOQAZs5pc--",
        "K5QZ13OEpz2H",
        "lQ7QKXXCp7Bj",
        "448CDAPjqfQr",
        "KSlN3yHqYklG",
        "t6dVpIINYklI",
        "ijmpgYnKYklI",
        "-JiQyfWJYklI",
        "EM7whBJCYoAo",
        "fge-S5ZAYoAp",
        "85gYPyotYoAp",
        "RoGjAbkUYoAp",
        "4Of9eVA-YrdM",
        "iky9q4vBYrdO",
        "F6T5p64dYrdO",
        "y-Ehk30pYrdP",
        "bamQiAODYuh1",
        "QHF8YVU7Yuh3",
        "GwzvFGzlYuh3",
        "qYpmQ266Yuh3",
        "OH-pJp9IphqM",
        "bbFf2-_FphqN",
        "_ouA3fa0phqN",
        "Seke61FWphqN",
        "PIIx-8_IphqN",
        "t27r6nlMphqO",
        "r2jJGEOYphqO",
        "b0JNsNcRphqO",
        "BZR9WyysphqO",
        "jj7wYXLtphqO",
        "eZrbJ2SmphqO",
        "rFu4xreNphqO",
        "YJ55k-q6phqO",
        "gCFgpxoyphqP",
        "OVtJsKN_phqQ",
        "lssrdh5qphqQ",
        "U2RJ9gkRphqQ",
        "1M8mcRywphqQ",
        "tgIPom80phqQ",
        "JMzcOPDDphqR",
        "x-EpHcCOp1ci",
        "X_VqEhTip1ck",
        "8zGJKyg5p1ck",
        "PVzmfK_Ep1ck",
        "n3dbpmDWp1ck",
        "ylSl6qgtp1ck",
        "ZWILFDl5p1ck",
        "M7G43BXep1ck",
        "Ag9LCva-p1cl",
        "E6MkPsBcp1cl",
        "2cELzS2fp1cl",
        "3MPXvC8up1cl",
        "NC_X3p0fY2L0",
        "UV0SzAkaZNRQ",
        "YPEH6qLeZNRQ",
        "q29F0dvdveiT",
        "EXh0U9oCveiU",
        "22aHeOlLveiV",
        "JcMwzZxoAimU",
        "8G2x9gOozGDZ",
        "gCX9965dhzqZ",
        "gIfDvo9L0UH2"
      ],
      "gpuType": "T4",
      "include_colab_link": true
    },
    "kernelspec": {
      "name": "python3",
      "display_name": "Python 3"
    },
    "language_info": {
      "name": "python"
    },
    "accelerator": "GPU"
  },
  "cells": [
    {
      "cell_type": "markdown",
      "metadata": {
        "id": "view-in-github",
        "colab_type": "text"
      },
      "source": [
        "<a href=\"https://colab.research.google.com/github/abhishekhnmr/Self-Projects/blob/main/Sample_EDA_Submission_Template.ipynb\" target=\"_parent\"><img src=\"https://colab.research.google.com/assets/colab-badge.svg\" alt=\"Open In Colab\"/></a>"
      ]
    },
    {
      "cell_type": "markdown",
      "source": [
        "# **Project Name**    -  Global Terrorism Dataset\n",
        "\n"
      ],
      "metadata": {
        "id": "vncDsAP0Gaoa"
      }
    },
    {
      "cell_type": "markdown",
      "source": [
        "##### **Project Type**    - EDA\n",
        "##### **Contribution**    - Individual\n",
        "##### **Name - Abhishek Hingmire**"
      ],
      "metadata": {
        "id": "beRrZCGUAJYm"
      }
    },
    {
      "cell_type": "markdown",
      "source": [
        "# **Project Summary -**"
      ],
      "metadata": {
        "id": "FJNUwmbgGyua"
      }
    },
    {
      "cell_type": "markdown",
      "source": [
        "Write the summary here within 500-600 words."
      ],
      "metadata": {
        "id": "F6v_1wHtG2nS"
      }
    },
    {
      "cell_type": "markdown",
      "source": [
        "# **GitHub Link -**"
      ],
      "metadata": {
        "id": "w6K7xa23Elo4"
      }
    },
    {
      "cell_type": "markdown",
      "source": [
        "Provide your GitHub Link here."
      ],
      "metadata": {
        "id": "h1o69JH3Eqqn"
      }
    },
    {
      "cell_type": "markdown",
      "source": [
        "# **Problem Statement**\n"
      ],
      "metadata": {
        "id": "yQaldy8SH6Dl"
      }
    },
    {
      "cell_type": "markdown",
      "source": [
        "The Global Terrorism Database is an open-source database including information on terrorist attacks around the world from 1970 through 2017. The Global Terrorism Database includes systematic data on domestic as well as international terrorist incidents that have occurred during 1970-2017 and now includes more than 180,000 attacks. The database is maintained by researchers at the National Consortium for the Study of Terrorism and Responses to Terrorism (START), headquartered at the University of Maryland. The objective is to Explore and analyze the data to discover key findings pertaining to terrorist activities."
      ],
      "metadata": {
        "id": "DpeJGUA3kjGy"
      }
    },
    {
      "cell_type": "markdown",
      "source": [
        "#### **Define Your Business Objective?**"
      ],
      "metadata": {
        "id": "PH-0ReGfmX4f"
      }
    },
    {
      "cell_type": "markdown",
      "source": [
        "To Explore and Analyze the Global Terrorism dataset to discover key findings pertaining to terrorist activities."
      ],
      "metadata": {
        "id": "PhDvGCAqmjP1"
      }
    },
    {
      "cell_type": "markdown",
      "source": [
        "# **General Guidelines** : -  "
      ],
      "metadata": {
        "id": "mDgbUHAGgjLW"
      }
    },
    {
      "cell_type": "markdown",
      "source": [
        "1.   Well-structured, formatted, and commented code is required.\n",
        "2.   Exception Handling, Production Grade Code & Deployment Ready Code will be a plus. Those students will be awarded some additional credits.\n",
        "     \n",
        "     The additional credits will have advantages over other students during Star Student selection.\n",
        "       \n",
        "             [ Note: - Deployment Ready Code is defined as, the whole .ipynb notebook should be executable in one go\n",
        "                       without a single error logged. ]\n",
        "\n",
        "3.   Each and every logic should have proper comments.\n",
        "4. You may add as many number of charts you want. Make Sure for each and every chart the following format should be answered.\n",
        "        \n",
        "\n",
        "```\n",
        "# Chart visualization code\n",
        "```\n",
        "            \n",
        "\n",
        "*   Why did you pick the specific chart?\n",
        "*   What is/are the insight(s) found from the chart?\n",
        "* Will the gained insights help creating a positive business impact?\n",
        "Are there any insights that lead to negative growth? Justify with specific reason.\n",
        "\n",
        "5. You have to create at least 20 logical & meaningful charts having important insights.\n",
        "\n",
        "\n",
        "[ Hints : - Do the Vizualization in  a structured way while following \"UBM\" Rule.\n",
        "\n",
        "U - Univariate Analysis,\n",
        "\n",
        "B - Bivariate Analysis (Numerical - Categorical, Numerical - Numerical, Categorical - Categorical)\n",
        "\n",
        "M - Multivariate Analysis\n",
        " ]\n",
        "\n",
        "\n",
        "\n"
      ],
      "metadata": {
        "id": "ZrxVaUj-hHfC"
      }
    },
    {
      "cell_type": "markdown",
      "source": [
        "# ***Let's Begin !***"
      ],
      "metadata": {
        "id": "O_i_v8NEhb9l"
      }
    },
    {
      "cell_type": "markdown",
      "source": [
        "## ***1. Know Your Data***"
      ],
      "metadata": {
        "id": "HhfV-JJviCcP"
      }
    },
    {
      "cell_type": "markdown",
      "source": [
        "### Import Libraries"
      ],
      "metadata": {
        "id": "Y3lxredqlCYt"
      }
    },
    {
      "cell_type": "code",
      "source": [
        "# Import Libraries\n",
        "\n",
        "import numpy as np\n",
        "import pandas as pd\n",
        "import matplotlib.pyplot as plt\n",
        "import seaborn as sns\n",
        "from wordcloud import WordCloud\n",
        "import warnings\n",
        "warnings.filterwarnings('ignore')\n",
        "import os\n",
        "import plotly.graph_objects as go\n",
        "import plotly.express as px"
      ],
      "metadata": {
        "id": "M8Vqi-pPk-HR"
      },
      "execution_count": null,
      "outputs": []
    },
    {
      "cell_type": "markdown",
      "source": [
        "### Dataset Loading"
      ],
      "metadata": {
        "id": "3RnN4peoiCZX"
      }
    },
    {
      "cell_type": "code",
      "source": [
        "# Mounting google drive\n",
        "from google.colab import drive\n",
        "drive.mount('/content/drive')"
      ],
      "metadata": {
        "id": "I_IjWqgBADhJ"
      },
      "execution_count": null,
      "outputs": []
    },
    {
      "cell_type": "code",
      "source": [
        "# Load Dataset\n",
        "\n",
        "path = '/content/drive/MyDrive/Global Terrorism Data.csv'\n",
        "df = pd.read_csv(path, encoding_errors = 'ignore')  # Got an UTF-8 encoding error while reading the csv file. To solve that, tried to use different encoding but still didn't work. That's why here encoding_error = 'ignore' parameter is being used here."
      ],
      "metadata": {
        "id": "4CkvbW_SlZ_R"
      },
      "execution_count": null,
      "outputs": []
    },
    {
      "cell_type": "markdown",
      "source": [
        "### Dataset First View"
      ],
      "metadata": {
        "id": "x71ZqKXriCWQ"
      }
    },
    {
      "cell_type": "code",
      "source": [
        "# Dataset First Look\n",
        "df.head()"
      ],
      "metadata": {
        "id": "LWNFOSvLl09H"
      },
      "execution_count": null,
      "outputs": []
    },
    {
      "cell_type": "code",
      "source": [
        "df.tail()"
      ],
      "metadata": {
        "id": "nemIgQ0MAa1Q"
      },
      "execution_count": null,
      "outputs": []
    },
    {
      "cell_type": "markdown",
      "source": [
        "### Dataset Rows & Columns count"
      ],
      "metadata": {
        "id": "7hBIi_osiCS2"
      }
    },
    {
      "cell_type": "code",
      "source": [
        "# Dataset Rows & Columns count\n",
        "print(f\"Total Rows in dataset: {df.shape[0]}\")\n",
        "print(f\"Total Columns in dataset: {df.shape[1]}\")"
      ],
      "metadata": {
        "id": "Kllu7SJgmLij"
      },
      "execution_count": null,
      "outputs": []
    },
    {
      "cell_type": "markdown",
      "source": [
        "### Dataset Information"
      ],
      "metadata": {
        "id": "JlHwYmJAmNHm"
      }
    },
    {
      "cell_type": "code",
      "source": [
        "# Dataset Info\n",
        "\n",
        "df.info(verbose = True, show_counts= True)"
      ],
      "metadata": {
        "id": "e9hRXRi6meOf"
      },
      "execution_count": null,
      "outputs": []
    },
    {
      "cell_type": "markdown",
      "source": [
        "#### Duplicate Values"
      ],
      "metadata": {
        "id": "35m5QtbWiB9F"
      }
    },
    {
      "cell_type": "code",
      "source": [
        "# Dataset Duplicate Value Count\n",
        "\n",
        "print(f\"Number of duplicate rows in dataset: {df.duplicated().sum()}\")"
      ],
      "metadata": {
        "id": "1sLdpKYkmox0"
      },
      "execution_count": null,
      "outputs": []
    },
    {
      "cell_type": "markdown",
      "source": [
        "#### Missing Values/Null Values"
      ],
      "metadata": {
        "id": "PoPl-ycgm1ru"
      }
    },
    {
      "cell_type": "code",
      "source": [
        "# Missing Values/Null Values Count\n",
        "\n",
        "print(f\"Total Null values in dataset: {df.isna().sum().sum()}\\n\")\n",
        "\n",
        "print(\"Columns which have null values are:\")\n",
        "dfna = df.isna().sum()\n",
        "print(dfna[dfna != 0])"
      ],
      "metadata": {
        "id": "GgHWkxvamxVg"
      },
      "execution_count": null,
      "outputs": []
    },
    {
      "cell_type": "code",
      "source": [
        "# Visualizing the missing values\n",
        "\n",
        "# To visualize null value counts, heatmap is being used here because it can help to identify patterns and clusters of missing data.\n",
        "\n",
        "plt.figure(figsize=(13,10))\n",
        "sns.heatmap(df[dfna[dfna!=0].index].isna())\n",
        "plt.show()"
      ],
      "metadata": {
        "id": "3q5wnI3om9sJ"
      },
      "execution_count": null,
      "outputs": []
    },
    {
      "cell_type": "markdown",
      "source": [
        "### What did you know about your dataset?"
      ],
      "metadata": {
        "id": "H0kj-8xxnORC"
      }
    },
    {
      "cell_type": "markdown",
      "source": [
        "*  The data has 181691 rows and 135 columns.\n",
        "*  There are no Duplicate values in the dataset.\n",
        "*  Eventid column is the primary key.\n",
        "*  There are 106 columns which have null values in them.\n",
        "*  Around 88 columns amoung them have null values more than 15%."
      ],
      "metadata": {
        "id": "gfoNAAC-nUe_"
      }
    },
    {
      "cell_type": "markdown",
      "source": [
        "## ***2. Understanding Your Variables***"
      ],
      "metadata": {
        "id": "nA9Y7ga8ng1Z"
      }
    },
    {
      "cell_type": "code",
      "source": [
        "# Dataset Columns\n",
        "print(df.columns.tolist())"
      ],
      "metadata": {
        "id": "j7xfkqrt5Ag5"
      },
      "execution_count": null,
      "outputs": []
    },
    {
      "cell_type": "markdown",
      "source": [
        "### Variables Description"
      ],
      "metadata": {
        "id": "PBTbrJXOngz2"
      }
    },
    {
      "cell_type": "markdown",
      "source": [
        "* **eventid** - Incidents from the Global Terrorism Data follow a 12-digit Event ID system.\n",
        "\n",
        "* **iyear** - This field contains the year in which the incident occurred. In the case of incident(s) occurring\n",
        "over an extended period, the field will record the year when the incident was initiated.\n",
        "\n",
        "* **imonth** - This field contains the number of the month in which the incident occurred. In the case of\n",
        "incident(s) occurring over an extended period, the field will record the month when the\n",
        "incident was initiated.\n",
        "\n",
        "* **iday** - This field contains the numeric day of the month on which the incident occurred. In the case of\n",
        "incident(s) occurring over an extended period, the field will record the day when the incident\n",
        "was initiated.\n",
        "\n",
        "* **approxdate** - Whenever the exact date of the incident is not known or remains unclear, this field is used to\n",
        "record the approximate date of the incident. \"0\" is used in the place of day.\n",
        "\n",
        "* **extended** -1 = \"Yes\" = The duration of an incident extended more than 24 hours. 0 = \"No\" = The duration of an incident extended less than 24 hours.\n",
        "\n",
        "* **resolution** - This field only applies if “Extended Incident?” is “Yes” and records the date in which the\n",
        "incident was resolved (hostages released by perpetrators; hostages killed; successful rescue,\n",
        "etc.)\n",
        "\n",
        "* **country** - (country code) This field identifies the country or location where the incident occurred. Separatist regions, such\n",
        "as Kashmir, Chechnya, South Ossetia, Transnistria, or Republic of Cabinda, are coded as part of\n",
        "the “home” country.\n",
        "\n",
        "* **country_txt** - This field identifies the country or location where the incident occurred. Separatist regions, such\n",
        "as Kashmir, Chechnya, South Ossetia, Transnistria, or Republic of Cabinda, are coded as part of\n",
        "the “home” country.\n",
        "\n",
        "* **region** - This field identifies the region in which the incident occurred. The regions are divided into the\n",
        "following 12 categories, and dependent on the country coded for the case.\n",
        "\n",
        "* **region_txt** - This field identifies the region in which the incident occurred. The regions are divided into the\n",
        "following 12 categories, and dependent on the country coded for the case.\n",
        "\n",
        "* **provstate** - This variable records the name (at the time of event) of the 1st order subnational administrative\n",
        "region in which the event occurs.\n",
        "\n",
        "* **city** -\n",
        "This field contains the name of the city, village, or town in which the incident occurred. If the\n",
        "city, village, or town for an incident is unknown, then this field contains the smallest\n",
        "administrative area below provstate which can be found for the incident (e.g., district).\n",
        "\n",
        "* **latitude** - This field records the latitude (based on WGS1984 standards) of the city in which the event\n",
        "occurred.\n",
        "\n",
        "* **longitude** - This field records the longitude (based on WGS1984 standards) of the city in which the event\n",
        "occurred.\n",
        "\n",
        "* **specificity** - This field identifies the geospatial resolution of the latitude and longitude fields. The most\n",
        "specific resolution uniformly available throughout the dataset is the center of the city, village,\n",
        "or town in which the attack occurred. Coordinates with greater resolution, while possible, are\n",
        "not systematically included in the database.\n",
        "\n",
        " 1 = event occurred in city/village/town and lat/long is for that location\n",
        "\n",
        " 2 = event occurred in city/village/town and no lat/long could be found, so coordinates are\n",
        "for centroid of smallest subnational administrative region identified\n",
        "\n",
        " 3 = event did not occur in city/village/town, so coordinates are for centroid of smallest\n",
        "subnational administrative region identified\n",
        "\n",
        " 4 = no 2nd order or smaller region could be identified, so coordinates are for center of 1st\n",
        "order administrative region\n",
        "\n",
        " 5 = no 1st order administrative region could be identified for the location of the attack, so\n",
        "latitude and longitude are unknown\n",
        "\n",
        "* **vicinity** - 1 = \"Yes\" The incident occurred in the immediate vicinity of the city in question. 0 = \"No\" The incident in the city itself.\n",
        "\n",
        "* **location** - This field is used to specify additional information about the location of the incident.\n",
        "\n",
        "* **summary** - A brief narrative summary of the incident, noting the “when, where, who, what, how, and\n",
        "why.”\n",
        "\n",
        "* **crit1** - The violent act must be aimed at attaining a political, economic, religious, or social goal.\n",
        "This criterion is not satisfied in those cases where the perpetrator(s) acted out of a pure\n",
        "profit motive or from an idiosyncratic personal motive unconnected with broader\n",
        "societal change.\n",
        "\n",
        "* **crit2** - To satisfy this criterion there must be evidence of an intention to coerce, intimidate, or\n",
        "convey some other message to a larger audience (or audiences) than the immediate\n",
        "victims. Such evidence can include (but is not limited to) the following: pre- or postattack statements by the perpetrator(s), past behavior by the perpetrators, or the\n",
        "particular nature of the target/victim, weapon, or attack type.\n",
        "\n",
        "* **crit3** - The action is outside the context of legitimate warfare activities, insofar as it targets\n",
        "non-combatants (i.e. the act must be outside the parameters permitted by international\n",
        "humanitarian law as reflected in the Additional Protocol to the Geneva Conventions of\n",
        "12 August 1949 and elsewhere).\n",
        "\n",
        "* **doubtterr** - In certain cases there may be some uncertainty whether an incident meets all of the criteria for\n",
        "inclusion. In these ambiguous cases, where there is a strong possibility, but not certainty, that\n",
        "an incident represents an act of terrorism, the incident is included in GTD and is coded as “Yes”\n",
        "for this variable.\n",
        "\n",
        "* **alternative / alternative_txt** - This variable applies to only those cases coded as “Yes” for “Doubt Terrorism Proper?” (above).\n",
        "This variable identifies the most likely categorization of the incident other than terrorism.\n",
        "\n",
        " 1= Insurgency/Guerilla Action\n",
        "\n",
        " 2= Other Crime Type\n",
        "\n",
        " 3= Inter/Intra-Group Conflict\n",
        "\n",
        " 4= Lack of Intentionality\n",
        "\n",
        " 5= State Actors (systematically coded post-2012)\n",
        "\n",
        "* **multiple** - In those cases where several attacks are connected, but where the various actions do not\n",
        "constitute a single incident (either the time of occurrence of incidents or their locations are\n",
        "discontinuous – see Single Incident Determination section above), then “Yes” is selected to\n",
        "denote that the particular attack was part of a “multiple” incident.\n",
        "\n",
        "* **related** - When an attack is part of a coordinated, multi-part incident the GTD IDs of the related incidents\n",
        "are listed here, separated by commas.\n",
        "\n",
        "* **success** - Success of a terrorist strike is defined according to the tangible effects of the attack. Success is\n",
        "not judged in terms of the larger goals of the perpetrators. For example, a bomb that exploded\n",
        "in a building would be counted as a success even if it did not succeed in bringing the building\n",
        "down or inducing government repression.\n",
        "\n",
        " The definition of a successful attack depends on the type of attack. Essentially, the key question\n",
        " is whether or not the attack type took place. If a case has multiple attack types, it is successful if\n",
        " any of the attack types are successful, with the exception of assassinations, which are only\n",
        " successful if the intended target is killed.\n",
        "\n",
        "* **suicide** - This variable is coded “Yes” in those cases where there is evidence that the perpetrator did not\n",
        "intend to escape from the attack alive\n",
        "\n",
        "* **attacktype1** - This field captures the general method of attack and often reflects the broad class of tactics\n",
        "used. It consists of nine categories, which are defined below.\n",
        "\n",
        " Attack Type Hierarchy:\n",
        "\n",
        " 1 = Assassination\n",
        "\n",
        " 2 = Hijacking\n",
        "\n",
        " 3 = Kidnapping\n",
        "\n",
        " 4 = Barricade Incident\n",
        "\n",
        " 5 = Bombing/Explosion\n",
        "\n",
        " 6 = Armed Assault\n",
        "\n",
        " 7 = Unarmed Assault\n",
        "\n",
        " 8 = Facility/Infrastructure Attack\n",
        "\n",
        " 9 = Unknown\n",
        "* **attacktype1_txt** -\n",
        "Attack Type Hierarchy:\n",
        "\n",
        " 1 = Assassination\n",
        "\n",
        " 2 = Hijacking\n",
        "\n",
        " 3 = Kidnapping\n",
        "\n",
        " 4 = Barricade Incident\n",
        "\n",
        " 5 = Bombing/Explosion\n",
        "\n",
        " 6 = Armed Assault\n",
        "\n",
        " 7 = Unarmed Assault\n",
        "\n",
        " 8 = Facility/Infrastructure Attack\n",
        "\n",
        " 9 = Unknown\n",
        "\n",
        "* **attacktype2** - This variable utilizes the hierarchy and attack type definitions listed above.\n",
        "\n",
        "* **attacktype2_txt** - This variable utilizes the hierarchy and attack type definitions listed above.\n",
        "\n",
        "* **attacktype3** - This variable utilizes the hierarchy and attack type definitions listed above.\n",
        "\n",
        "* **attacktype3_txt** - This variable utilizes the hierarchy and attack type definitions listed above.\n",
        "\n",
        "* **targtype1 / targtype1_txt** -\n",
        "\n",
        " 1 = BUSINESS\n",
        "\n",
        " 2 = GOVERNMENT (GENERAL)\n",
        "\n",
        " 3 = POLICE\n",
        "\n",
        " 4 = MILITARY\n",
        "\n",
        " 5 = ABORTION RELATED\n",
        "\n",
        " 6 = AIRPORTS & AIRCRAFT\n",
        "\n",
        " 7 = GOVERNMENT (DIPLOMATIC)\n",
        "\n",
        " 8 = EDUCATIONAL INSTITUTION\n",
        "\n",
        " 9 = FOOD OR WATER SUPPLY\n",
        "\n",
        " 10 = JOURNALISTS & MEDIA\n",
        "\n",
        " 11 = MARITIME (INCLUDES PORTS AND MARITIME FACILITIES)\n",
        "\n",
        " 12 = NGO\n",
        "\n",
        " 13= OTHER\n",
        "\n",
        " 14= PRIVATE CITIZENS & PROPERTY\n",
        "\n",
        " 15 = RELIGIOUS FIGURES/INSTITUTIONS\n",
        "\n",
        " 16 = TELECOMMUNICATION\n",
        "\n",
        " 17 = TERRORISTS/NON-STATE MILITIAS\n",
        "\n",
        " 18 = TOURISTS\n",
        "\n",
        " 19 = TRANSPORTATION (OTHER THAN AVIATION)\n",
        "\n",
        " 20 = UNKNOWN\n",
        "\n",
        " 21 = UTILITIES\n",
        "\n",
        " 22 = VIOLENT POLITICAL PARTIES\n",
        "\n",
        "* **targsubtype1** - Codes of subtypes of each target type\n",
        "\n",
        "* **targsubtype1_txt** - Names of subtype of each target type\n",
        "\n",
        "* **corp1** - This is the name of the corporate entity or government agency that was targeted. If the\n",
        "element targeted is unspecified, “Unknown” is listed. If no specific entity was targeted, “Not\n",
        "Applicable” is recorded.\n",
        "\n",
        "* **target1** - This is the specific person, building, installation, etc., that was targeted and/or victimized and is\n",
        "a part of the entity named above. (For example, if the U.S. Embassy in Country X was attacked\n",
        "the “Name of Entity” would be “United States Department of State” and the “Specific\n",
        "Target/Victim” would be “United States Embassy”). If names of victims are known, they are\n",
        "listed here preceded by the specific type of target (e.g., civilians, soldiers, officers).\n",
        "\n",
        "* **natlty1 / natlty1_txt** - This is the nationality of the target that was attacked, and is not necessarily the same as the\n",
        "country in which the incident occurred, although in most cases it is. For hijacking incidents, the\n",
        "nationality of the plane is recorded and not that of the passengers. For numeric nationality\n",
        "codes, please see the country codes in Section III.\n",
        "\n",
        "* **targtype2** - Conventions follow “Target/Victim Type” field.\n",
        "\n",
        "* **targtype2_txt** - Conventions follow “Target/Victim Type” field.\n",
        "\n",
        "* **targsubtype2** -  Conventions follow “Target/Victim Subtype” field.\n",
        "\n",
        "* **targsubtype2_txt** - Conventions follow “Target/Victim Subtype” field.\n",
        "\n",
        "* **corp2** - Conventions follow “Name of Entity” field.\n",
        "\n",
        "* **target2** - Conventions follow “Specific Target/Victim” field.\n",
        "\n",
        "* **natlty2** - Conventions follow “Nationality of Target” field. For numeric nationality codes, please see the\n",
        "country codes in Section III.\n",
        "\n",
        "* **natlty2_txt** - Conventions follow “Nationality of Target” field. For numeric nationality codes, please see the\n",
        "country codes in Section III.\n",
        "\n",
        "* **targtype3** - Categorical Variable\n",
        "\n",
        "* **targtype3_txt** - Categorical Variable\n",
        "\n",
        "* **targsubtype3** - Conventions follow “Target/Victim Subtype” field\n",
        "\n",
        "* **targsubtype3_txt** - Conventions follow “Target/Victim Subtype” field\n",
        "\n",
        "* **corp3** - Conventions follow “Name of Entity” field.\n",
        "\n",
        "* **target3** - Conventions follow “Specific Target/Victim” field.\n",
        "\n",
        "* **natlty3** - Conventions follow “Nationality of Target/Victim” field. For numeric nationality codes, please\n",
        "see the country codes in Section III.\n",
        "\n",
        "* **natlty3_txt** - Conventions follow “Nationality of Target/Victim” field. For numeric nationality codes, please\n",
        "see the country codes in Section III.\n",
        "\n",
        "* **gname** - This field contains the name of the group that carried out the attack. In order to ensure\n",
        "consistency in the usage of group names for the database, the GTD database uses a\n",
        "standardized list of group names that have been established by project staff to serve as a\n",
        "reference for all subsequent entries.\n",
        "\n",
        "* **gsubname** - This field contains any additional qualifiers or details about the name of the group that carried\n",
        "out the attack. This includes but is not limited to the name of the specific faction when\n",
        "available.\n",
        "\n",
        "* **gname2** - This field is used to record the name of the second perpetrator when responsibility for the\n",
        "attack is attributed to more than one perpetrator. Conventions follow “Perpetrator Group”\n",
        "field.\n",
        "\n",
        "* **gsubname2** - This field is used to record additional qualifiers or details about the second perpetrator group\n",
        "name when responsibility for the attack is attributed to more than one perpetrator.\n",
        "Conventions follow “Perpetrator Sub-Group Name” field.\n",
        "\n",
        "* **gname3** - This field is used to record the name of the third perpetrator when responsibility for the attack\n",
        "is attributed to more than two perpetrators. Conventions follow “Perpetrator Group” field.\n",
        "\n",
        "* **gsubname3** - This field is used to record additional qualifiers of details about the third perpetrator group\n",
        "name when responsibility for the attack is attributed to more than two perpetrators.\n",
        "Conventions follow “Perpetrator Sub-Group Name” field.\n",
        "\n",
        "* **motive** - When reports explicitly mention a specific motive for the attack, this motive is recorded in the\n",
        "“Motive” field.\n",
        "\n",
        "* **guncertain1** -\n",
        "\n",
        " 1 = \"Yes\" The perpetrator attribution(s) for the incident are suspected.\n",
        "\n",
        " 0 = \"No\" The perpetrator attribution(s) for the incident are not suspected.\n",
        "\n",
        "* **guncertain2** -\n",
        "\n",
        " 1 = \"Yes\" The perpetrator attribution(s) for the incident are suspected.\n",
        "\n",
        " 0 = \"No\" The perpetrator attribution(s) for the incident are not suspected\n",
        "\n",
        "* **guncertain3** -\n",
        "\n",
        " 1 = \"Yes\" The perpetrator attribution(s) for the incident are suspected.\n",
        "\n",
        " 0 = \"No\" The perpetrator attribution(s) for the incident are not suspected.\n",
        "\n",
        "* **individual** -\n",
        "\n",
        " 1 = \"Yes\" The perpetrator(s) were identified by name (or specific unnamed\n",
        " minors)\n",
        " and not known to be affiliated with a group or organization.\n",
        "\n",
        " 0 = \"No\" The perpetrator(s) were not identified as unaffiliated individuals (i.e. the\n",
        " perpetrators were either not identified by name, or were known to be\n",
        " affiliated with a group or organization).\n",
        "\n",
        "* **nperps** - This field indicates the total number of terrorists participating in the incident.\n",
        "\n",
        "* **nperpcap** - This field records the number of perpetrators taken into custody. “-99” or “Unknown” appears\n",
        "when there is evidence of captured, but the number is not reported.\n",
        "\n",
        "* **claimed** -\n",
        "\n",
        " 1 = \"Yes\" A group or person claimed responsibility for the attack.\n",
        "\n",
        " 0 = \"No\" No claim of responsibility was made.\n",
        "\n",
        "* **claimmode** -\n",
        "\n",
        " 1 = Letter\n",
        "\n",
        " 2 = Call (post-incident)\n",
        "\n",
        " 3 = Call (pre-incident)\n",
        "\n",
        " 4 = E-mail\n",
        "\n",
        " 5 = Note left at scene\n",
        "\n",
        " 6 = Video\n",
        "\n",
        " 7 = Posted to website, blog, social media\n",
        "\n",
        " 8 = Personal claim\n",
        "\n",
        " 9 = Other\n",
        "\n",
        " 10 = Unknown\n",
        "\n",
        "* **claimmode_txt** -\n",
        "\n",
        " 1 = Letter\n",
        "\n",
        " 2 = Call (post-incident)\n",
        "\n",
        " 3 = Call (pre-incident)\n",
        "\n",
        " 4 = E-mail\n",
        "\n",
        " 5 = Note left at scene\n",
        "\n",
        " 6 = Video\n",
        "\n",
        " 7 = Posted to website, blog, social media\n",
        "\n",
        " 8 = Personal claim\n",
        "\n",
        " 9 = Other\n",
        "\n",
        " 10 = Unknown\n",
        "\n",
        "* **claim2** -\n",
        "\n",
        " 1 = \"Yes\" A group or person claimed responsibility for the attack.\n",
        "\n",
        " 0 = \"No\" No claim of responsibility was made.\n",
        "\n",
        "* **claimmode2** - Conventions follow the “Mode for Claim of Responsibility” field.\n",
        "\n",
        "* **claimmode2_txt** - Conventions follow the “Mode for Claim of Responsibility” field.\n",
        "\n",
        "* **claim3** -\n",
        "\n",
        " 1 = \"Yes\" A group or person claimed responsibility for the attack.\n",
        "\n",
        " 0 = \"No\" No claim of responsibility was made.\n",
        "\n",
        "* **claimmode3** -  Conventions follow the “Mode for Claim of Responsibility” field.\n",
        "\n",
        "* **claimmode3_txt** -  Conventions follow the “Mode for Claim of Responsibility” field.\n",
        "\n",
        "* **compclaim** -\n",
        "\n",
        " 1 = \"Yes\" There are competing claims of responsibility for the attack.\n",
        "\n",
        " 0 = \"No\" There are not competing claims of responsibility for the attack.\n",
        "\n",
        " -9= “Unknown No indication of competing claims.\n",
        "\n",
        " [NULL] Not applicable (e.g., Perpetrator is unknown; only one perpetrator\n",
        " reported; or no claim of responsibility reported)\n",
        "\n",
        "\n",
        "* **weaptype1 / weaptype1_txt** - Up to four weapon types are recorded for each incident. This field records the general type of\n",
        "weapon used in the incident. It consists of the following categories:\n",
        "\n",
        " 1 = Biological\n",
        "\n",
        " 2 = Chemical\n",
        "\n",
        " 3 = Radiological\n",
        "\n",
        " 4 = Nuclear\n",
        "\n",
        " 5 = Firearms\n",
        "\n",
        " 6 = Explosives\n",
        "\n",
        " 7 = Fake Weapons\n",
        "\n",
        " 8 = Incendiary\n",
        "\n",
        " 9 = Melee\n",
        "\n",
        " 10 = Vehicle\n",
        "\n",
        " 11 = Sabotage Equipment\n",
        "\n",
        " 12 = Other\n",
        "\n",
        " 13 = Unknown\n",
        "\n",
        "* **weapsubtype1** - Codes of the weapon subtypes. Each weapon type can have multiple subtype\n",
        "\n",
        "* **weapsubtype1_txt** - Names of the Subtypes of the weapon types\n",
        "\n",
        "* **weaptype2** - Conventions follow “Weapon Type” field.\n",
        "\n",
        "* **weaptype2_txt** - Conventions follow “Weapon Type” field.\n",
        "\n",
        "* **weapsubtype2** - Conventions follow “Weapon Sub-Type” field.\n",
        "\n",
        "* **weapsubtype2_txt** - Conventions follow “Weapon Sub-Type” field.\n",
        "\n",
        "* **weaptype3** - Conventions follow “Weapon Type” field.\n",
        "\n",
        "* **weaptype3_txt** - Conventions follow “Weapon Type” field.\n",
        "\n",
        "* **weapsubtype3** - Conventions follow “Weapon Sub-Type” field.\n",
        "\n",
        "* **weapsubtype3_txt** - Conventions follow “Weapon Sub-Type” field.\n",
        "\n",
        "* **weaptype4** - Conventions follow “Weapon Type” field.\n",
        "\n",
        "* **weaptype4_txt** - Conventions follow “Weapon Type” field.\n",
        "\n",
        "* **weapsubtype4** - Conventions follow “Weapon Sub-Type” field.\n",
        "\n",
        "* **weapsubtype4_txt** - Conventions follow “Weapon Sub-Type” field.\n",
        "\n",
        "* **weapdetail** - This field notes any pertinent information on the type of weapon(s) used in the incident. Such\n",
        "notes could include the novel use or means of concealing a weapon, specific weapon models,\n",
        "interesting details of the weapons’ origins, etc.\n",
        "\n",
        "* **nkill** - This field stores the number of total confirmed fatalities for the incident. The number includes\n",
        "all victims and attackers who died as a direct result of the incident.\n",
        "\n",
        "* **nkillus** - This field records the number of U.S. citizens who died as a result of the incident, and follows\n",
        "the conventions of “Total Number of Fatalities” described above.\n",
        "\n",
        "* **nkillter** - Limited to only perpetrator fatalities, this field follows the conventions of the “Total Number of\n",
        "Fatalities” field described above.\n",
        "\n",
        "* **nwound** - This field records the number of confirmed non-fatal injuries to both perpetrators and victims.\n",
        "It follows the conventions of the “Total Number of Fatalities” field described above.\n",
        "\n",
        "* **nwoundus** - This field records the number of confirmed non-fatal injuries to U.S. citizens, both perpetrators\n",
        "and victims. It follows the conventions of the “Number of U.S. Fatalities” field described above.\n",
        "\n",
        "* **nwoundte** - Conventions follow the “Number of Perpetrator Fatalities” field described above.\n",
        "\n",
        "* **property** -\n",
        "\n",
        " 1 = \"Yes\" The incident resulted in property damage.\n",
        "\n",
        " 0 = \"No\" The incident did not result in property damage.\n",
        "\n",
        " -9 = \"Unknown\" It is unknown if the incident resulted in property damage.\n",
        "\n",
        "* **propextent / propextent_txt** -\n",
        "\n",
        " 1 = Catastrophic (likely ≥ $1 billion)\n",
        "\n",
        " 2 = Major (likely ≥ $1 million but < $1 billion)\n",
        "\n",
        " 3 = Minor (likely < $1 million)\n",
        "\n",
        " 4 = Unknown\n",
        "\n",
        "* **propvalue** - The exact U.S. dollar amount (at the time of the incident)\n",
        "of total damages is listed.\n",
        "\n",
        "* **propcomment** - If “Property Damage?” is “Yes,” then non-monetary or imprecise measures of damage may be\n",
        "described in this field.\n",
        "\n",
        "* **ishostkid** -\n",
        "\n",
        " 1 = \"Yes\" The victims were taken hostage or kidnapped.\n",
        "\n",
        " 0 = \"No\" The victims were not taken hostage or kidnapped.\n",
        "\n",
        " -9 = \"Unknown\" It is unknown if the victims were taken hostage or kidnapped.\n",
        "\n",
        "* **nhostkid** - This field records the total number of hostages or kidnapping victims.\n",
        "\n",
        "* **nhostkidus** - This field reports the number of U.S. citizens that were taken hostage or kidnapped in the\n",
        "incident. Conventions follow the “Total Number of Hostages/ Kidnapping Victims” field\n",
        "described above.\n",
        "\n",
        "* **nhours** - If the “Attack Type” is “Hostage Taking (Kidnapping),” “Hostage Taking (Barricade Incident),” or\n",
        "a successful “Hijacking,” then the duration of the incident is recorded either in this field or in\n",
        "the next field depending on whether the incident lasted a matter of hours or days. If neither\n",
        "hours nor days are known, both fields are coded as “-99” (unknown).\n",
        "\n",
        "* **ndays** - If the “Attack Type” is “Hostage Taking (Kidnapping),” “Hostage Taking (Barricade Incident),” or\n",
        "(successful) “Hijacking” and if the duration of the kidnapping / hostage incident last for more\n",
        "than 24 hours, this field records the duration of the incident in days. If information on hours\n",
        "and days is provided, the figure is rounded to the nearest day.\n",
        "\n",
        "* **divert** - If the “Attack Type” is “Hostage Taking (Kidnapping)” or “Hijacking” then this field will list the\n",
        "country that hijackers diverted a vehicle to, or the country that the kidnap victims were moved\n",
        "to and held. If hijackers did not divert a vehicle to another country, this field is blank. If a vehicle\n",
        "was diverted to multiple countries, this field will record the first country that the vehicle was\n",
        "diverted to, and the others will be listed in the “Additional Notes” field.\n",
        "\n",
        "* **kidhijcountry** - If the “Attack Type” is “Hostage Taking (Kidnapping)” or “Hijacking” then this field lists the\n",
        "country in which the incident was resolved or ended. If the incident was not resolved in another\n",
        "country, this field is blank. If a vehicle was diverted to more than one country, this field will\n",
        "record the last country that it was diverted to, and the others will be listed in the “Additional\n",
        "Notes” field.\n",
        "\n",
        "* **ransom** -\n",
        "\n",
        " 1 = \"Yes\" The incident involved a demand of monetary ransom.\n",
        "\n",
        " 0 = \"No\" The incident did not involve a demand of monetary ransom.\n",
        "\n",
        " -9 = \"Unknown\" It is unknown if the incident involved a demand of monetary\n",
        " ransom.\n",
        "\n",
        " [NULL] Not applicable\n",
        "\n",
        "* **ransomamt** - If a ransom was demanded, then the amount (in U.S. dollars) is listed in this field.\n",
        "\n",
        "* **ransomamtus** - If a ransom was demanded from U.S. sources, then the amount (in U.S. dollars) is listed in this\n",
        "field.\n",
        "\n",
        "* **ransompaid** - If a ransom amount was paid, then the amount (in U.S. dollars) is listed in this field.\n",
        "\n",
        "* **ransompaidus** - If a ransom amount was paid by U.S. sources, then this figure is listed in U.S. dollars. If a ransom\n",
        "was paid by U.S. sources but the monetary figure was unspecified, then this field will report “-\n",
        "99” (unknown).\n",
        "\n",
        "* **ransomnote** - This field is used to record any specific details relating to a ransom that are not captured in the\n",
        "other fields. This includes any information about non-money demands made by perpetrators,\n",
        "as well as information on conflicting reports of how much money was demanded and/or paid.\n",
        "\n",
        "* **hostkidoutcome / hostkidoutcome_txt** -\n",
        "\n",
        " 1 = Attempted Rescue\n",
        "\n",
        " 2 = Hostage(s) released by perpetrators\n",
        "\n",
        " 3 = Hostage(s) escaped (not during rescue attempt)\n",
        "\n",
        " 4 = Hostage(s) killed (not during rescue attempt)\n",
        "\n",
        " 5 = Successful Rescue\n",
        "\n",
        " 6 = Combination\n",
        "\n",
        " 7 = Unknown\n",
        "\n",
        "* **nreleased** - If the “Attack Type” is “Hostage Taking (Kidnapping),” “Hostage Taking (Barricade Incident),” or\n",
        "a successful “Hijacking,” then this field will apply. This field records the number of hostages\n",
        "who survived the incident.\n",
        "\n",
        "* **addnotes** - This field is used to capture additional relevant details about the attack.\n",
        "\n",
        "* **scite1** - This field cites the first source that was used to compile information on the specific incident.\n",
        "\n",
        "* **scite2** - This field cites the second source that was used to compile information on the specific incident.\n",
        "\n",
        "* **scite3** - This field cites the third source that was used to compile information on the specific incident.\n",
        "\n",
        "* **dbsource** - This field identifies the original data collection effort in which each event was recorded. Each\n",
        "value corresponds to a different data collection project or group.\n",
        "\n",
        "* **INT_LOG** -\n",
        "\n",
        " 1 = \"Yes\" The attack was logistically international; the nationality of the\n",
        " perpetrator group differs from the location of the attack. If the\n",
        " perpetrator group is multinational, the attack is logistically international\n",
        " if all of the group’s nationalities differ from the location of the attack.\n",
        "\n",
        " 0 = \"No\" The attack was logistically domestic; the nationality of the    perpetrator\n",
        " group is the same as the location of the attack. If the perpetrator group is\n",
        " multinational, the attack is logistically domestic if any of the group’s\n",
        " nationalities is the same as the location of the attack.\n",
        "\n",
        " -9 = \"Unknown\" It is unknown if the attack was logistically international or\n",
        " domestic; the\n",
        " nationality of the perpetrator group is unknown.\n",
        "\n",
        "* **INT_IDEO** -\n",
        "\n",
        " 1 = \"Yes\" The attack was ideologically international; the nationality of the\n",
        " perpetrator group differs from the nationality of the target(s)/victim(s). If\n",
        " the perpetrator group or target is multinational, the attack is ideologically\n",
        " international.\n",
        "\n",
        " 0 = \"No\" The attack was ideologically domestic; any and all nationalities of the\n",
        " perpetrator group are the same as the nationalities of the\n",
        " target(s)/victim(s).\n",
        "\n",
        " -9 = \"Unknown\" It is unknown if the attack was logistically international or\n",
        " domestic; the\n",
        " nationality of the perpetrator group or the nationality of the\n",
        " target/victim is unknown.\n",
        "\n",
        "* **INT_MISC** -\n",
        "\n",
        " 1 = \"Yes\" The attack was miscellaneous international; the location of the attack\n",
        " differs from the nationality of the target(s)/victim(s).\n",
        "\n",
        " 0 = \"No\" The attack was miscellaneous domestic; the location of the attack is\n",
        " the\n",
        " same as the nationalities of the target(s)/victim(s).\n",
        "\n",
        " -9 = \"Unknown\" It is unknown if the attack was miscellaneous international or\n",
        " domestic;\n",
        " the nationality of target/victim is unknown.\n",
        "\n",
        "* **INT_ANY** -\n",
        "\n",
        " 1 = \"Yes\" The attack was international on any of the dimensions described above\n",
        " (logistically, ideologically, miscellaneous)\n",
        "\n",
        " 0 = \"No\" The attack was domestic on all of the dimensions described above\n",
        " (logistically, ideologically, miscellaneous);\n",
        "\n",
        " -9 = \"Unknown\" It is unknown if the attack was international or domestic; the\n",
        " value for\n",
        " one or more dimensions is unknown.\n"
      ],
      "metadata": {
        "id": "olB9QWicjyJw"
      }
    },
    {
      "cell_type": "markdown",
      "source": [
        "### Check Unique Values for each variable."
      ],
      "metadata": {
        "id": "u3PMJOP6ngxN"
      }
    },
    {
      "cell_type": "code",
      "source": [
        "# Check Unique Values for each variable.\n",
        "\n",
        "df.apply(lambda var : var.unique())"
      ],
      "metadata": {
        "id": "zms12Yq5n-jE"
      },
      "execution_count": null,
      "outputs": []
    },
    {
      "cell_type": "code",
      "source": [
        "# Number of Numeric Variables in the dataset?\n",
        "numerics = [\"int16\",\"int32\",\"int64\",\"float16\",\"float32\",\"float64\"]\n",
        "\n",
        "numeric_variables = df.select_dtypes(include = numerics)\n",
        "\n",
        "len(numeric_variables.columns)"
      ],
      "metadata": {
        "id": "Btofp8oPnDg-"
      },
      "execution_count": null,
      "outputs": []
    },
    {
      "cell_type": "markdown",
      "source": [
        "## 3. ***Data Wrangling***"
      ],
      "metadata": {
        "id": "dauF4eBmngu3"
      }
    },
    {
      "cell_type": "markdown",
      "source": [
        "### Data Wrangling Code"
      ],
      "metadata": {
        "id": "bKJF3rekwFvQ"
      }
    },
    {
      "cell_type": "code",
      "source": [
        "# Write your code to make your dataset analysis ready.\n",
        "\n",
        "# Count of Null values in each column\n",
        "dfna = df.isna().sum().sort_values(ascending = False)\n",
        "dfna"
      ],
      "metadata": {
        "id": "wk-9a2fpoLcV"
      },
      "execution_count": null,
      "outputs": []
    },
    {
      "cell_type": "code",
      "source": [
        "#Percentage of null values in each column\n",
        "dfna_percentage = dfna / len(df) * 100\n",
        "dfna_percentage"
      ],
      "metadata": {
        "id": "zL_WVSN1rMCN"
      },
      "execution_count": null,
      "outputs": []
    },
    {
      "cell_type": "code",
      "source": [
        "#Filter columns based on threshold: Greater than 15%\n",
        "dfna_percentage[dfna_percentage <= 15].index\n"
      ],
      "metadata": {
        "id": "YJX0su2B3S8u"
      },
      "execution_count": null,
      "outputs": []
    },
    {
      "cell_type": "code",
      "source": [
        "cols = ['eventid','iday', 'imonth','iyear',\"city\",'region_txt', 'country_txt','provstate',\n",
        "        'latitude','longitude','nwound','nkill','weaptype1_txt','extended','attacktype1_txt',\n",
        "        'targtype1_txt','suicide','property','doubtterr','success','gname','motive']\n",
        "\n",
        "data = df[cols].copy()\n",
        "\n",
        "col_rename = {'iday':'day','imonth':'month','iyear':'year','region_txt':'region','country_txt':'country',\n",
        "              'provstate':'state','nwound':'wounded','nkill':'killed','weaptype1_txt':'weapon_type',\n",
        "              'attacktype1_txt':'attack_type','targtype1_txt':'target_type','gname':'group_name'}\n",
        "\n",
        "data.rename(columns = col_rename,inplace = True)"
      ],
      "metadata": {
        "id": "DcK4zrXPGm_P"
      },
      "execution_count": null,
      "outputs": []
    },
    {
      "cell_type": "code",
      "source": [
        "data.columns"
      ],
      "metadata": {
        "id": "i-YrhhjrtUYK"
      },
      "execution_count": null,
      "outputs": []
    },
    {
      "cell_type": "code",
      "source": [
        "dfna = data.isna().sum()\n",
        "dfna[dfna != 0]"
      ],
      "metadata": {
        "id": "exTulLQmxxYn"
      },
      "execution_count": null,
      "outputs": []
    },
    {
      "cell_type": "markdown",
      "source": [
        "number of terrorist events happend every year?\n",
        "\n",
        "which region is most attacked\n",
        "\n",
        "which countries has high casluaties count in all theie terrorism events\n",
        "\n",
        "what is the most common attack type?\n",
        "\n",
        "top 5 cities with most terrorism events?\n",
        "\n",
        "what are the top 3 weapon types?\n",
        "\n",
        "which people are targeted the most?\n",
        "\n",
        "what is the number of casualties in these events every year?\n",
        "\n",
        "out of the total attacks how many times did properties gets damaged?\n",
        "\n",
        "which terrorist groups are most active?\n",
        "\n",
        "how often terrorists succeed in their plans?\n",
        "\n",
        "in which 5 years terrorism was at peak?\n"
      ],
      "metadata": {
        "id": "W1vW77ElTsg4"
      }
    },
    {
      "cell_type": "code",
      "source": [
        "event_count = data['year'].value_counts().sort_index().values\n",
        "years = np.sort(data['year'].unique())\n",
        "\n",
        "go.Figure(go.Scatter(x = years,y = event_count,mode = 'lines+markers', marker = dict(symbol = 'circle', size = 8)))"
      ],
      "metadata": {
        "id": "AVxOGp4S4Bnx"
      },
      "execution_count": null,
      "outputs": []
    },
    {
      "cell_type": "code",
      "source": [
        "data['casualties'] = data['wounded'] + data['killed']\n",
        "casualty = data['casualties'].groupby(data['year']).sum().sort_index()\n",
        "f = []\n",
        "go.Figure(go.Scatter(x = casualty.index,y = casualty.values, mode = 'lines+markers', marker = dict(symbol = 'circle', size = 8)))"
      ],
      "metadata": {
        "id": "nJ5MbZoS6Phv"
      },
      "execution_count": null,
      "outputs": []
    },
    {
      "cell_type": "code",
      "source": [
        "d=[]\n",
        "d.append(go.Scatter(x = years,y = event_count,name='Terrorist Events', mode = 'lines+markers', marker = dict(symbol = 'circle', size = 8)))\n",
        "d.append(go.Scatter(x = casualty.index,y = casualty.values,name='Total Casualties', mode = 'lines+markers', marker = dict(symbol = 'circle', size = 8)))\n",
        "\n",
        "fig = go.Figure(data = d)\n",
        "fig.update_layout(title='Yearly Terrorist Events and Sum of Casualties',\n",
        "                  xaxis_title='Year',\n",
        "                  yaxis_title='Count',\n",
        "                  autosize=False, width=1300, height=600)\n",
        "\n",
        "fig.show()"
      ],
      "metadata": {
        "id": "ecjl70x56PuV"
      },
      "execution_count": null,
      "outputs": []
    },
    {
      "cell_type": "code",
      "source": [
        "yearly_df = data['year'].value_counts().sort_index()\n",
        "yearly_dropna_df = data.dropna(subset = ['killed', 'wounded'])['year'].value_counts().sort_index()"
      ],
      "metadata": {
        "id": "1l_zs43O6Py7"
      },
      "execution_count": null,
      "outputs": []
    },
    {
      "cell_type": "code",
      "source": [
        "t = [yearly_df,yearly_dropna_df]\n",
        "x = []\n",
        "for i in range(len(t)):\n",
        "    x.append(go.Scatter(x=t[i].index,y=t[i].values))\n",
        "\n",
        "fig=go.Figure(x)\n",
        "fig.show()"
      ],
      "metadata": {
        "id": "RCPplpQR6P3n"
      },
      "execution_count": null,
      "outputs": []
    },
    {
      "cell_type": "code",
      "source": [
        "x=data['region'].value_counts().index\n",
        "y=data['region'].value_counts()\n",
        "\n",
        "go.Figure(go.Bar(x=x,y=y))"
      ],
      "metadata": {
        "id": "xgFLHVSs6P-p"
      },
      "execution_count": null,
      "outputs": []
    },
    {
      "cell_type": "code",
      "source": [
        "\n",
        "y = data['casualties'].groupby(data['country']).sum().sort_values(ascending = False).head(10)\n",
        "x = y.index\n",
        "go.Figure(go.Bar(x=x,y=y))"
      ],
      "metadata": {
        "id": "IUl3N8J26QDj"
      },
      "execution_count": null,
      "outputs": []
    },
    {
      "cell_type": "code",
      "source": [
        "x = data['attack_type'].value_counts().index\n",
        "y = data['attack_type'].value_counts().values\n",
        "\n",
        "go.Figure(go.Bar(x=x,y=y))\n",
        "go.Figure(go.Bar(x=x,y=y))"
      ],
      "metadata": {
        "id": "VqpHFARK6QGv"
      },
      "execution_count": null,
      "outputs": []
    },
    {
      "cell_type": "code",
      "source": [
        "x = data['city'].value_counts().sort_values(ascending = False).head(50).index\n",
        "y = data['city'].value_counts().sort_values(ascending = False).head(50).values\n",
        "\n",
        "go.Figure(go.Bar(x = x,y = y))"
      ],
      "metadata": {
        "id": "hel9724r6QJl"
      },
      "execution_count": null,
      "outputs": []
    },
    {
      "cell_type": "code",
      "source": [
        "data.groupby(['region','attack_type']).size().unstack(fill_value=0)"
      ],
      "metadata": {
        "id": "BfxMivU96QMc"
      },
      "execution_count": null,
      "outputs": []
    },
    {
      "cell_type": "code",
      "source": [
        "x = data['weapon_type'].value_counts().index\n",
        "y = data['weapon_type'].value_counts().values\n",
        "\n",
        "go.Figure(go.Bar(x=x,y=y))"
      ],
      "metadata": {
        "id": "ODCpxo6A6QPV"
      },
      "execution_count": null,
      "outputs": []
    },
    {
      "cell_type": "code",
      "source": [
        "coun_terror=data['country'].value_counts()[:15].to_frame()\n",
        "coun_terror.columns=['Attacks']\n",
        "coun_kill=data.groupby('country')['killed'].sum().to_frame()\n",
        "coun_terror.merge(coun_kill,left_index=True,right_index=True,how='left').plot.bar(width=0.9)\n",
        "fig=plt.gcf()\n",
        "fig.set_size_inches(18,6)\n",
        "plt.show()"
      ],
      "metadata": {
        "id": "obWE-ia66QSM"
      },
      "execution_count": null,
      "outputs": []
    },
    {
      "cell_type": "code",
      "source": [
        "x = data['target_type'].value_counts().index\n",
        "y = data['target_type'].value_counts().values\n",
        "\n",
        "go.Figure(go.Scatter(x=x,y=y, mode = 'lines+markers', marker = dict(symbol = 'circle', size = 8)))"
      ],
      "metadata": {
        "id": "qXkDYVUm6QVr"
      },
      "execution_count": null,
      "outputs": []
    },
    {
      "cell_type": "code",
      "source": [
        "data.groupby(['region','target_type']).size().unstack(fill_value = 0)"
      ],
      "metadata": {
        "id": "BfL5tvUq6QZB"
      },
      "execution_count": null,
      "outputs": []
    },
    {
      "cell_type": "code",
      "source": [
        "damaged = data['property'].value_counts().to_frame()\n",
        "damaged.rename(index = {1:'Yes',0:'No',-9:'Unknown'})"
      ],
      "metadata": {
        "id": "wthnelZQ6QbB"
      },
      "execution_count": null,
      "outputs": []
    },
    {
      "cell_type": "code",
      "source": [
        "x = data['group_name'].value_counts().head(15).index\n",
        "y = data['group_name'].value_counts().head(15).values\n",
        "\n",
        "go.Figure(go.Bar(x=x,y=y))"
      ],
      "metadata": {
        "id": "Im0zfZLU6Qde"
      },
      "execution_count": null,
      "outputs": []
    },
    {
      "cell_type": "code",
      "source": [
        "x = data['success'].value_counts().index\n",
        "y = data['success'].value_counts().values\n",
        "\n",
        "go.Figure(go.Bar(x = x,y = y))"
      ],
      "metadata": {
        "id": "R0BU0ZwS6Qgd"
      },
      "execution_count": null,
      "outputs": []
    },
    {
      "cell_type": "code",
      "source": [],
      "metadata": {
        "id": "oLri9kTO6QjV"
      },
      "execution_count": null,
      "outputs": []
    },
    {
      "cell_type": "code",
      "source": [],
      "metadata": {
        "id": "Ca2rCz4O6Ql-"
      },
      "execution_count": null,
      "outputs": []
    },
    {
      "cell_type": "code",
      "source": [],
      "metadata": {
        "id": "HVVCzjwO6Qo4"
      },
      "execution_count": null,
      "outputs": []
    },
    {
      "cell_type": "code",
      "source": [],
      "metadata": {
        "id": "9zrIjagZ6Qrr"
      },
      "execution_count": null,
      "outputs": []
    },
    {
      "cell_type": "markdown",
      "source": [
        "### What all manipulations have you done and insights you found?"
      ],
      "metadata": {
        "id": "MSa1f5Uengrz"
      }
    },
    {
      "cell_type": "markdown",
      "source": [
        "Answer Here."
      ],
      "metadata": {
        "id": "LbyXE7I1olp8"
      }
    },
    {
      "cell_type": "markdown",
      "source": [
        "## ***4. Data Vizualization, Storytelling & Experimenting with charts : Understand the relationships between variables***"
      ],
      "metadata": {
        "id": "GF8Ens_Soomf"
      }
    },
    {
      "cell_type": "markdown",
      "source": [
        "#### Chart - 1"
      ],
      "metadata": {
        "id": "0wOQAZs5pc--"
      }
    },
    {
      "cell_type": "code",
      "source": [
        "# Chart - 1 visualization code"
      ],
      "metadata": {
        "id": "7v_ESjsspbW7"
      },
      "execution_count": null,
      "outputs": []
    },
    {
      "cell_type": "markdown",
      "source": [
        "##### 1. Why did you pick the specific chart?"
      ],
      "metadata": {
        "id": "K5QZ13OEpz2H"
      }
    },
    {
      "cell_type": "markdown",
      "source": [
        "Answer Here."
      ],
      "metadata": {
        "id": "XESiWehPqBRc"
      }
    },
    {
      "cell_type": "markdown",
      "source": [
        "##### 2. What is/are the insight(s) found from the chart?"
      ],
      "metadata": {
        "id": "lQ7QKXXCp7Bj"
      }
    },
    {
      "cell_type": "markdown",
      "source": [
        "Answer Here"
      ],
      "metadata": {
        "id": "C_j1G7yiqdRP"
      }
    },
    {
      "cell_type": "markdown",
      "source": [
        "##### 3. Will the gained insights help creating a positive business impact?\n",
        "Are there any insights that lead to negative growth? Justify with specific reason."
      ],
      "metadata": {
        "id": "448CDAPjqfQr"
      }
    },
    {
      "cell_type": "markdown",
      "source": [
        "Answer Here"
      ],
      "metadata": {
        "id": "3cspy4FjqxJW"
      }
    },
    {
      "cell_type": "markdown",
      "source": [
        "#### Chart - 2"
      ],
      "metadata": {
        "id": "KSlN3yHqYklG"
      }
    },
    {
      "cell_type": "code",
      "source": [
        "# Chart - 2 visualization code"
      ],
      "metadata": {
        "id": "R4YgtaqtYklH"
      },
      "execution_count": null,
      "outputs": []
    },
    {
      "cell_type": "markdown",
      "source": [
        "##### 1. Why did you pick the specific chart?"
      ],
      "metadata": {
        "id": "t6dVpIINYklI"
      }
    },
    {
      "cell_type": "markdown",
      "source": [
        "Answer Here."
      ],
      "metadata": {
        "id": "5aaW0BYyYklI"
      }
    },
    {
      "cell_type": "markdown",
      "source": [
        "##### 2. What is/are the insight(s) found from the chart?"
      ],
      "metadata": {
        "id": "ijmpgYnKYklI"
      }
    },
    {
      "cell_type": "markdown",
      "source": [
        "Answer Here"
      ],
      "metadata": {
        "id": "PSx9atu2YklI"
      }
    },
    {
      "cell_type": "markdown",
      "source": [
        "##### 3. Will the gained insights help creating a positive business impact?\n",
        "Are there any insights that lead to negative growth? Justify with specific reason."
      ],
      "metadata": {
        "id": "-JiQyfWJYklI"
      }
    },
    {
      "cell_type": "markdown",
      "source": [
        "Answer Here"
      ],
      "metadata": {
        "id": "BcBbebzrYklV"
      }
    },
    {
      "cell_type": "markdown",
      "source": [
        "#### Chart - 3"
      ],
      "metadata": {
        "id": "EM7whBJCYoAo"
      }
    },
    {
      "cell_type": "code",
      "source": [
        "# Chart - 3 visualization code"
      ],
      "metadata": {
        "id": "t6GMdE67YoAp"
      },
      "execution_count": null,
      "outputs": []
    },
    {
      "cell_type": "markdown",
      "source": [
        "##### 1. Why did you pick the specific chart?"
      ],
      "metadata": {
        "id": "fge-S5ZAYoAp"
      }
    },
    {
      "cell_type": "markdown",
      "source": [
        "Answer Here."
      ],
      "metadata": {
        "id": "5dBItgRVYoAp"
      }
    },
    {
      "cell_type": "markdown",
      "source": [
        "##### 2. What is/are the insight(s) found from the chart?"
      ],
      "metadata": {
        "id": "85gYPyotYoAp"
      }
    },
    {
      "cell_type": "markdown",
      "source": [
        "Answer Here"
      ],
      "metadata": {
        "id": "4jstXR6OYoAp"
      }
    },
    {
      "cell_type": "markdown",
      "source": [
        "##### 3. Will the gained insights help creating a positive business impact?\n",
        "Are there any insights that lead to negative growth? Justify with specific reason."
      ],
      "metadata": {
        "id": "RoGjAbkUYoAp"
      }
    },
    {
      "cell_type": "markdown",
      "source": [
        "Answer Here"
      ],
      "metadata": {
        "id": "zfJ8IqMcYoAp"
      }
    },
    {
      "cell_type": "markdown",
      "source": [
        "#### Chart - 4"
      ],
      "metadata": {
        "id": "4Of9eVA-YrdM"
      }
    },
    {
      "cell_type": "code",
      "source": [
        "# Chart - 4 visualization code"
      ],
      "metadata": {
        "id": "irlUoxc8YrdO"
      },
      "execution_count": null,
      "outputs": []
    },
    {
      "cell_type": "markdown",
      "source": [
        "##### 1. Why did you pick the specific chart?"
      ],
      "metadata": {
        "id": "iky9q4vBYrdO"
      }
    },
    {
      "cell_type": "markdown",
      "source": [
        "Answer Here."
      ],
      "metadata": {
        "id": "aJRCwT6DYrdO"
      }
    },
    {
      "cell_type": "markdown",
      "source": [
        "##### 2. What is/are the insight(s) found from the chart?"
      ],
      "metadata": {
        "id": "F6T5p64dYrdO"
      }
    },
    {
      "cell_type": "markdown",
      "source": [
        "Answer Here"
      ],
      "metadata": {
        "id": "Xx8WAJvtYrdO"
      }
    },
    {
      "cell_type": "markdown",
      "source": [
        "##### 3. Will the gained insights help creating a positive business impact?\n",
        "Are there any insights that lead to negative growth? Justify with specific reason."
      ],
      "metadata": {
        "id": "y-Ehk30pYrdP"
      }
    },
    {
      "cell_type": "markdown",
      "source": [
        "Answer Here"
      ],
      "metadata": {
        "id": "jLNxxz7MYrdP"
      }
    },
    {
      "cell_type": "markdown",
      "source": [
        "#### Chart - 5"
      ],
      "metadata": {
        "id": "bamQiAODYuh1"
      }
    },
    {
      "cell_type": "code",
      "source": [
        "# Chart - 5 visualization code"
      ],
      "metadata": {
        "id": "TIJwrbroYuh3"
      },
      "execution_count": null,
      "outputs": []
    },
    {
      "cell_type": "markdown",
      "source": [
        "##### 1. Why did you pick the specific chart?"
      ],
      "metadata": {
        "id": "QHF8YVU7Yuh3"
      }
    },
    {
      "cell_type": "markdown",
      "source": [
        "Answer Here."
      ],
      "metadata": {
        "id": "dcxuIMRPYuh3"
      }
    },
    {
      "cell_type": "markdown",
      "source": [
        "##### 2. What is/are the insight(s) found from the chart?"
      ],
      "metadata": {
        "id": "GwzvFGzlYuh3"
      }
    },
    {
      "cell_type": "markdown",
      "source": [
        "Answer Here"
      ],
      "metadata": {
        "id": "uyqkiB8YYuh3"
      }
    },
    {
      "cell_type": "markdown",
      "source": [
        "##### 3. Will the gained insights help creating a positive business impact?\n",
        "Are there any insights that lead to negative growth? Justify with specific reason."
      ],
      "metadata": {
        "id": "qYpmQ266Yuh3"
      }
    },
    {
      "cell_type": "markdown",
      "source": [
        "Answer Here"
      ],
      "metadata": {
        "id": "_WtzZ_hCYuh4"
      }
    },
    {
      "cell_type": "markdown",
      "source": [
        "#### Chart - 6"
      ],
      "metadata": {
        "id": "OH-pJp9IphqM"
      }
    },
    {
      "cell_type": "code",
      "source": [
        "# Chart - 6 visualization code"
      ],
      "metadata": {
        "id": "kuRf4wtuphqN"
      },
      "execution_count": null,
      "outputs": []
    },
    {
      "cell_type": "markdown",
      "source": [
        "##### 1. Why did you pick the specific chart?"
      ],
      "metadata": {
        "id": "bbFf2-_FphqN"
      }
    },
    {
      "cell_type": "markdown",
      "source": [
        "Answer Here."
      ],
      "metadata": {
        "id": "loh7H2nzphqN"
      }
    },
    {
      "cell_type": "markdown",
      "source": [
        "##### 2. What is/are the insight(s) found from the chart?"
      ],
      "metadata": {
        "id": "_ouA3fa0phqN"
      }
    },
    {
      "cell_type": "markdown",
      "source": [
        "Answer Here"
      ],
      "metadata": {
        "id": "VECbqPI7phqN"
      }
    },
    {
      "cell_type": "markdown",
      "source": [
        "##### 3. Will the gained insights help creating a positive business impact?\n",
        "Are there any insights that lead to negative growth? Justify with specific reason."
      ],
      "metadata": {
        "id": "Seke61FWphqN"
      }
    },
    {
      "cell_type": "markdown",
      "source": [
        "Answer Here"
      ],
      "metadata": {
        "id": "DW4_bGpfphqN"
      }
    },
    {
      "cell_type": "markdown",
      "source": [
        "#### Chart - 7"
      ],
      "metadata": {
        "id": "PIIx-8_IphqN"
      }
    },
    {
      "cell_type": "code",
      "source": [
        "# Chart - 7 visualization code"
      ],
      "metadata": {
        "id": "lqAIGUfyphqO"
      },
      "execution_count": null,
      "outputs": []
    },
    {
      "cell_type": "markdown",
      "source": [
        "##### 1. Why did you pick the specific chart?"
      ],
      "metadata": {
        "id": "t27r6nlMphqO"
      }
    },
    {
      "cell_type": "markdown",
      "source": [
        "Answer Here."
      ],
      "metadata": {
        "id": "iv6ro40sphqO"
      }
    },
    {
      "cell_type": "markdown",
      "source": [
        "##### 2. What is/are the insight(s) found from the chart?"
      ],
      "metadata": {
        "id": "r2jJGEOYphqO"
      }
    },
    {
      "cell_type": "markdown",
      "source": [
        "Answer Here"
      ],
      "metadata": {
        "id": "Po6ZPi4hphqO"
      }
    },
    {
      "cell_type": "markdown",
      "source": [
        "##### 3. Will the gained insights help creating a positive business impact?\n",
        "Are there any insights that lead to negative growth? Justify with specific reason."
      ],
      "metadata": {
        "id": "b0JNsNcRphqO"
      }
    },
    {
      "cell_type": "markdown",
      "source": [
        "Answer Here"
      ],
      "metadata": {
        "id": "xvSq8iUTphqO"
      }
    },
    {
      "cell_type": "markdown",
      "source": [
        "#### Chart - 8"
      ],
      "metadata": {
        "id": "BZR9WyysphqO"
      }
    },
    {
      "cell_type": "code",
      "source": [
        "# Chart - 8 visualization code"
      ],
      "metadata": {
        "id": "TdPTWpAVphqO"
      },
      "execution_count": null,
      "outputs": []
    },
    {
      "cell_type": "markdown",
      "source": [
        "##### 1. Why did you pick the specific chart?"
      ],
      "metadata": {
        "id": "jj7wYXLtphqO"
      }
    },
    {
      "cell_type": "markdown",
      "source": [
        "Answer Here."
      ],
      "metadata": {
        "id": "Ob8u6rCTphqO"
      }
    },
    {
      "cell_type": "markdown",
      "source": [
        "##### 2. What is/are the insight(s) found from the chart?"
      ],
      "metadata": {
        "id": "eZrbJ2SmphqO"
      }
    },
    {
      "cell_type": "markdown",
      "source": [
        "Answer Here"
      ],
      "metadata": {
        "id": "mZtgC_hjphqO"
      }
    },
    {
      "cell_type": "markdown",
      "source": [
        "##### 3. Will the gained insights help creating a positive business impact?\n",
        "Are there any insights that lead to negative growth? Justify with specific reason."
      ],
      "metadata": {
        "id": "rFu4xreNphqO"
      }
    },
    {
      "cell_type": "markdown",
      "source": [
        "Answer Here"
      ],
      "metadata": {
        "id": "ey_0qi68phqO"
      }
    },
    {
      "cell_type": "markdown",
      "source": [
        "#### Chart - 9"
      ],
      "metadata": {
        "id": "YJ55k-q6phqO"
      }
    },
    {
      "cell_type": "code",
      "source": [
        "# Chart - 9 visualization code"
      ],
      "metadata": {
        "id": "B2aS4O1ophqO"
      },
      "execution_count": null,
      "outputs": []
    },
    {
      "cell_type": "markdown",
      "source": [
        "##### 1. Why did you pick the specific chart?"
      ],
      "metadata": {
        "id": "gCFgpxoyphqP"
      }
    },
    {
      "cell_type": "markdown",
      "source": [
        "Answer Here."
      ],
      "metadata": {
        "id": "TVxDimi2phqP"
      }
    },
    {
      "cell_type": "markdown",
      "source": [
        "##### 2. What is/are the insight(s) found from the chart?"
      ],
      "metadata": {
        "id": "OVtJsKN_phqQ"
      }
    },
    {
      "cell_type": "markdown",
      "source": [
        "Answer Here"
      ],
      "metadata": {
        "id": "ngGi97qjphqQ"
      }
    },
    {
      "cell_type": "markdown",
      "source": [
        "##### 3. Will the gained insights help creating a positive business impact?\n",
        "Are there any insights that lead to negative growth? Justify with specific reason."
      ],
      "metadata": {
        "id": "lssrdh5qphqQ"
      }
    },
    {
      "cell_type": "markdown",
      "source": [
        "Answer Here"
      ],
      "metadata": {
        "id": "tBpY5ekJphqQ"
      }
    },
    {
      "cell_type": "markdown",
      "source": [
        "#### Chart - 10"
      ],
      "metadata": {
        "id": "U2RJ9gkRphqQ"
      }
    },
    {
      "cell_type": "code",
      "source": [
        "# Chart - 10 visualization code"
      ],
      "metadata": {
        "id": "GM7a4YP4phqQ"
      },
      "execution_count": null,
      "outputs": []
    },
    {
      "cell_type": "markdown",
      "source": [
        "##### 1. Why did you pick the specific chart?"
      ],
      "metadata": {
        "id": "1M8mcRywphqQ"
      }
    },
    {
      "cell_type": "markdown",
      "source": [
        "Answer Here."
      ],
      "metadata": {
        "id": "8agQvks0phqQ"
      }
    },
    {
      "cell_type": "markdown",
      "source": [
        "##### 2. What is/are the insight(s) found from the chart?"
      ],
      "metadata": {
        "id": "tgIPom80phqQ"
      }
    },
    {
      "cell_type": "markdown",
      "source": [
        "Answer Here"
      ],
      "metadata": {
        "id": "Qp13pnNzphqQ"
      }
    },
    {
      "cell_type": "markdown",
      "source": [
        "##### 3. Will the gained insights help creating a positive business impact?\n",
        "Are there any insights that lead to negative growth? Justify with specific reason."
      ],
      "metadata": {
        "id": "JMzcOPDDphqR"
      }
    },
    {
      "cell_type": "markdown",
      "source": [
        "Answer Here"
      ],
      "metadata": {
        "id": "R4Ka1PC2phqR"
      }
    },
    {
      "cell_type": "markdown",
      "source": [
        "#### Chart - 11"
      ],
      "metadata": {
        "id": "x-EpHcCOp1ci"
      }
    },
    {
      "cell_type": "code",
      "source": [
        "# Chart - 11 visualization code"
      ],
      "metadata": {
        "id": "mAQTIvtqp1cj"
      },
      "execution_count": null,
      "outputs": []
    },
    {
      "cell_type": "markdown",
      "source": [
        "##### 1. Why did you pick the specific chart?"
      ],
      "metadata": {
        "id": "X_VqEhTip1ck"
      }
    },
    {
      "cell_type": "markdown",
      "source": [
        "Answer Here."
      ],
      "metadata": {
        "id": "-vsMzt_np1ck"
      }
    },
    {
      "cell_type": "markdown",
      "source": [
        "##### 2. What is/are the insight(s) found from the chart?"
      ],
      "metadata": {
        "id": "8zGJKyg5p1ck"
      }
    },
    {
      "cell_type": "markdown",
      "source": [
        "Answer Here"
      ],
      "metadata": {
        "id": "ZYdMsrqVp1ck"
      }
    },
    {
      "cell_type": "markdown",
      "source": [
        "##### 3. Will the gained insights help creating a positive business impact?\n",
        "Are there any insights that lead to negative growth? Justify with specific reason."
      ],
      "metadata": {
        "id": "PVzmfK_Ep1ck"
      }
    },
    {
      "cell_type": "markdown",
      "source": [
        "Answer Here"
      ],
      "metadata": {
        "id": "druuKYZpp1ck"
      }
    },
    {
      "cell_type": "markdown",
      "source": [
        "#### Chart - 12"
      ],
      "metadata": {
        "id": "n3dbpmDWp1ck"
      }
    },
    {
      "cell_type": "code",
      "source": [
        "# Chart - 12 visualization code"
      ],
      "metadata": {
        "id": "bwevp1tKp1ck"
      },
      "execution_count": null,
      "outputs": []
    },
    {
      "cell_type": "markdown",
      "source": [
        "##### 1. Why did you pick the specific chart?"
      ],
      "metadata": {
        "id": "ylSl6qgtp1ck"
      }
    },
    {
      "cell_type": "markdown",
      "source": [
        "Answer Here."
      ],
      "metadata": {
        "id": "m2xqNkiQp1ck"
      }
    },
    {
      "cell_type": "markdown",
      "source": [
        "##### 2. What is/are the insight(s) found from the chart?"
      ],
      "metadata": {
        "id": "ZWILFDl5p1ck"
      }
    },
    {
      "cell_type": "markdown",
      "source": [
        "Answer Here"
      ],
      "metadata": {
        "id": "x-lUsV2mp1ck"
      }
    },
    {
      "cell_type": "markdown",
      "source": [
        "##### 3. Will the gained insights help creating a positive business impact?\n",
        "Are there any insights that lead to negative growth? Justify with specific reason."
      ],
      "metadata": {
        "id": "M7G43BXep1ck"
      }
    },
    {
      "cell_type": "markdown",
      "source": [
        "Answer Here"
      ],
      "metadata": {
        "id": "5wwDJXsLp1cl"
      }
    },
    {
      "cell_type": "markdown",
      "source": [
        "#### Chart - 13"
      ],
      "metadata": {
        "id": "Ag9LCva-p1cl"
      }
    },
    {
      "cell_type": "code",
      "source": [
        "# Chart - 13 visualization code"
      ],
      "metadata": {
        "id": "EUfxeq9-p1cl"
      },
      "execution_count": null,
      "outputs": []
    },
    {
      "cell_type": "markdown",
      "source": [
        "##### 1. Why did you pick the specific chart?"
      ],
      "metadata": {
        "id": "E6MkPsBcp1cl"
      }
    },
    {
      "cell_type": "markdown",
      "source": [
        "Answer Here."
      ],
      "metadata": {
        "id": "V22bRsFWp1cl"
      }
    },
    {
      "cell_type": "markdown",
      "source": [
        "##### 2. What is/are the insight(s) found from the chart?"
      ],
      "metadata": {
        "id": "2cELzS2fp1cl"
      }
    },
    {
      "cell_type": "markdown",
      "source": [
        "Answer Here"
      ],
      "metadata": {
        "id": "ozQPc2_Ip1cl"
      }
    },
    {
      "cell_type": "markdown",
      "source": [
        "##### 3. Will the gained insights help creating a positive business impact?\n",
        "Are there any insights that lead to negative growth? Justify with specific reason."
      ],
      "metadata": {
        "id": "3MPXvC8up1cl"
      }
    },
    {
      "cell_type": "markdown",
      "source": [
        "Answer Here"
      ],
      "metadata": {
        "id": "GL8l1tdLp1cl"
      }
    },
    {
      "cell_type": "markdown",
      "source": [
        "#### Chart - 14 - Correlation Heatmap"
      ],
      "metadata": {
        "id": "NC_X3p0fY2L0"
      }
    },
    {
      "cell_type": "code",
      "source": [
        "# Correlation Heatmap visualization code"
      ],
      "metadata": {
        "id": "xyC9zolEZNRQ"
      },
      "execution_count": null,
      "outputs": []
    },
    {
      "cell_type": "markdown",
      "source": [
        "##### 1. Why did you pick the specific chart?"
      ],
      "metadata": {
        "id": "UV0SzAkaZNRQ"
      }
    },
    {
      "cell_type": "markdown",
      "source": [
        "Answer Here."
      ],
      "metadata": {
        "id": "DVPuT8LYZNRQ"
      }
    },
    {
      "cell_type": "markdown",
      "source": [
        "##### 2. What is/are the insight(s) found from the chart?"
      ],
      "metadata": {
        "id": "YPEH6qLeZNRQ"
      }
    },
    {
      "cell_type": "markdown",
      "source": [
        "Answer Here"
      ],
      "metadata": {
        "id": "bfSqtnDqZNRR"
      }
    },
    {
      "cell_type": "markdown",
      "source": [
        "#### Chart - 15 - Pair Plot"
      ],
      "metadata": {
        "id": "q29F0dvdveiT"
      }
    },
    {
      "cell_type": "code",
      "source": [
        "# Pair Plot visualization code"
      ],
      "metadata": {
        "id": "o58-TEIhveiU"
      },
      "execution_count": null,
      "outputs": []
    },
    {
      "cell_type": "markdown",
      "source": [
        "##### 1. Why did you pick the specific chart?"
      ],
      "metadata": {
        "id": "EXh0U9oCveiU"
      }
    },
    {
      "cell_type": "markdown",
      "source": [
        "Answer Here."
      ],
      "metadata": {
        "id": "eMmPjTByveiU"
      }
    },
    {
      "cell_type": "markdown",
      "source": [
        "##### 2. What is/are the insight(s) found from the chart?"
      ],
      "metadata": {
        "id": "22aHeOlLveiV"
      }
    },
    {
      "cell_type": "markdown",
      "source": [
        "Answer Here"
      ],
      "metadata": {
        "id": "uPQ8RGwHveiV"
      }
    },
    {
      "cell_type": "markdown",
      "source": [
        "## **5. Solution to Business Objective**"
      ],
      "metadata": {
        "id": "JcMwzZxoAimU"
      }
    },
    {
      "cell_type": "markdown",
      "source": [
        "#### What do you suggest the client to achieve Business Objective ?\n",
        "Explain Briefly."
      ],
      "metadata": {
        "id": "8G2x9gOozGDZ"
      }
    },
    {
      "cell_type": "markdown",
      "source": [
        "Answer Here."
      ],
      "metadata": {
        "id": "pASKb0qOza21"
      }
    },
    {
      "cell_type": "markdown",
      "source": [
        "# **Conclusion**"
      ],
      "metadata": {
        "id": "gCX9965dhzqZ"
      }
    },
    {
      "cell_type": "markdown",
      "source": [
        "Write the conclusion here."
      ],
      "metadata": {
        "id": "Fjb1IsQkh3yE"
      }
    },
    {
      "cell_type": "markdown",
      "source": [
        "### ***Hurrah! You have successfully completed your EDA Capstone Project !!!***"
      ],
      "metadata": {
        "id": "gIfDvo9L0UH2"
      }
    }
  ]
}